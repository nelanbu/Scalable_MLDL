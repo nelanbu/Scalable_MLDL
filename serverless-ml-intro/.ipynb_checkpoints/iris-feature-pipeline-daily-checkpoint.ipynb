{
 "cells": [
  {
   "cell_type": "code",
   "execution_count": 2,
   "metadata": {},
   "outputs": [
    {
     "ename": "KeyError",
     "evalue": "'deploy'",
     "output_type": "error",
     "traceback": [
      "\u001b[1;31m---------------------------------------------------------------------------\u001b[0m",
      "\u001b[1;31mKeyError\u001b[0m                                  Traceback (most recent call last)",
      "Cell \u001b[1;32mIn[2], line 74\u001b[0m\n\u001b[0;32m     72\u001b[0m     g()\n\u001b[0;32m     73\u001b[0m \u001b[38;5;28;01melse\u001b[39;00m:\n\u001b[1;32m---> 74\u001b[0m     \u001b[43mstub\u001b[49m\u001b[38;5;241;43m.\u001b[39;49m\u001b[43mdeploy\u001b[49m(\u001b[38;5;124m\"\u001b[39m\u001b[38;5;124miris_daily\u001b[39m\u001b[38;5;124m\"\u001b[39m)\n\u001b[0;32m     75\u001b[0m     \u001b[38;5;28;01mwith\u001b[39;00m stub\u001b[38;5;241m.\u001b[39mrun():\n\u001b[0;32m     76\u001b[0m         f()\n",
      "File \u001b[1;32m~\\miniconda3\\envs\\labenv\\lib\\site-packages\\synchronicity\\synchronizer.py:497\u001b[0m, in \u001b[0;36mSynchronizer._wrap_proxy_method.<locals>.proxy_method\u001b[1;34m(self, *args, **kwargs)\u001b[0m\n\u001b[0;32m    495\u001b[0m instance \u001b[38;5;241m=\u001b[39m \u001b[38;5;28mself\u001b[39m\u001b[38;5;241m.\u001b[39m\u001b[38;5;18m__dict__\u001b[39m[synchronizer_self\u001b[38;5;241m.\u001b[39m_original_attr]\n\u001b[0;32m    496\u001b[0m \u001b[38;5;28;01mtry\u001b[39;00m:\n\u001b[1;32m--> 497\u001b[0m     \u001b[38;5;28;01mreturn\u001b[39;00m wrapped_method(instance, \u001b[38;5;241m*\u001b[39margs, \u001b[38;5;241m*\u001b[39m\u001b[38;5;241m*\u001b[39mkwargs)\n\u001b[0;32m    498\u001b[0m \u001b[38;5;28;01mexcept\u001b[39;00m UserCodeException \u001b[38;5;28;01mas\u001b[39;00m uc_exc:\n\u001b[0;32m    499\u001b[0m     \u001b[38;5;28;01mraise\u001b[39;00m uc_exc\u001b[38;5;241m.\u001b[39mexc \u001b[38;5;28;01mfrom\u001b[39;00m \u001b[38;5;28;01mNone\u001b[39;00m\n",
      "File \u001b[1;32m~\\miniconda3\\envs\\labenv\\lib\\site-packages\\synchronicity\\synchronizer.py:398\u001b[0m, in \u001b[0;36mSynchronizer._wrap_callable.<locals>.f_wrapped\u001b[1;34m(*args, **kwargs)\u001b[0m\n\u001b[0;32m    395\u001b[0m kwargs \u001b[38;5;241m=\u001b[39m \u001b[38;5;28mself\u001b[39m\u001b[38;5;241m.\u001b[39m_translate_in(kwargs)\n\u001b[0;32m    397\u001b[0m \u001b[38;5;66;03m# Call the function\u001b[39;00m\n\u001b[1;32m--> 398\u001b[0m res \u001b[38;5;241m=\u001b[39m f(\u001b[38;5;241m*\u001b[39margs, \u001b[38;5;241m*\u001b[39m\u001b[38;5;241m*\u001b[39mkwargs)\n\u001b[0;32m    400\u001b[0m \u001b[38;5;66;03m# Figure out if this is a coroutine or something\u001b[39;00m\n\u001b[0;32m    401\u001b[0m is_coroutine \u001b[38;5;241m=\u001b[39m inspect\u001b[38;5;241m.\u001b[39miscoroutine(res)\n",
      "File \u001b[1;32m~\\miniconda3\\envs\\labenv\\lib\\site-packages\\modal\\stub.py:233\u001b[0m, in \u001b[0;36m_Stub.__getattr__\u001b[1;34m(self, tag)\u001b[0m\n\u001b[0;32m    231\u001b[0m     \u001b[38;5;28;01mraise\u001b[39;00m \u001b[38;5;167;01mAttributeError\u001b[39;00m(\u001b[38;5;124mf\u001b[39m\u001b[38;5;124m\"\u001b[39m\u001b[38;5;124mStub has no member \u001b[39m\u001b[38;5;132;01m{\u001b[39;00mtag\u001b[38;5;132;01m}\u001b[39;00m\u001b[38;5;124m\"\u001b[39m)\n\u001b[0;32m    232\u001b[0m \u001b[38;5;66;03m# Return a reference to an object that will be created in the future\u001b[39;00m\n\u001b[1;32m--> 233\u001b[0m \u001b[38;5;28;01mreturn\u001b[39;00m \u001b[38;5;28;43mself\u001b[39;49m\u001b[38;5;241;43m.\u001b[39;49m\u001b[43m_blueprint\u001b[49m\u001b[43m[\u001b[49m\u001b[43mtag\u001b[49m\u001b[43m]\u001b[49m\n",
      "\u001b[1;31mKeyError\u001b[0m: 'deploy'"
     ]
    }
   ],
   "source": [
    "import os\n",
    "import modal\n",
    "\n",
    "LOCAL=True\n",
    "\n",
    "if LOCAL == False:\n",
    "   stub = modal.Stub(\"iris_daily\")\n",
    "   image = modal.Image.debian_slim().pip_install([\"hopsworks\"]) \n",
    "\n",
    "   @stub.function(image=image, schedule=modal.Period(days=1), secret=modal.Secret.from_name(\"id2223\"))\n",
    "   def f():\n",
    "       g()\n",
    "\n",
    "\n",
    "def generate_flower(name, sepal_len_max, sepal_len_min, sepal_width_max, sepal_width_min, \n",
    "                    petal_len_max, petal_len_min, petal_width_max, petal_width_min):\n",
    "    \"\"\"\n",
    "    Returns a single iris flower as a single row in a DataFrame\n",
    "    \"\"\"\n",
    "    import pandas as pd\n",
    "    import random\n",
    "\n",
    "    df = pd.DataFrame({ \"sepal_length\": [random.uniform(sepal_len_max, sepal_len_min)],\n",
    "                       \"sepal_width\": [random.uniform(sepal_width_max, sepal_width_min)],\n",
    "                       \"petal_length\": [random.uniform(petal_len_max, petal_len_min)],\n",
    "                       \"petal_width\": [random.uniform(petal_width_max, petal_width_min)]\n",
    "                      })\n",
    "    df['variety'] = name\n",
    "    return df\n",
    "\n",
    "\n",
    "def get_random_iris_flower():\n",
    "    \"\"\"\n",
    "    Returns a DataFrame containing one random iris flower\n",
    "    \"\"\"\n",
    "    import pandas as pd\n",
    "    import random\n",
    "\n",
    "    virginica_df = generate_flower(\"Virginica\", 8, 5.5, 3.8, 2.2, 7, 4.5, 2.5, 1.4)\n",
    "    versicolor_df = generate_flower(\"Versicolor\", 7.5, 4.5, 3.5, 2.1, 3.1, 5.5, 1.8, 1.0)\n",
    "    setosa_df =  generate_flower(\"Setosa\", 6, 4.5, 4.5, 2.3, 1.2, 2, 0.7, 0.3)\n",
    "\n",
    "    # randomly pick one of these 3 and write it to the featurestore\n",
    "    pick_random = random.uniform(0,3)\n",
    "    if pick_random >= 2:\n",
    "        iris_df = virginica_df\n",
    "        print(\"Virginica added\")\n",
    "    elif pick_random >= 1:\n",
    "        iris_df = versicolor_df\n",
    "        print(\"Versicolor added\")\n",
    "    else:\n",
    "        iris_df = setosa_df\n",
    "        print(\"Setosa added\")\n",
    "\n",
    "    return iris_df\n",
    "\n",
    "\n",
    "def g():\n",
    "    import hopsworks\n",
    "    import pandas as pd\n",
    "\n",
    "    project = hopsworks.login()\n",
    "    fs = project.get_feature_store()\n",
    "\n",
    "    iris_df = get_random_iris_flower()\n",
    "\n",
    "    iris_fg = fs.get_feature_group(name=\"iris\",version=1)\n",
    "    iris_fg.insert(iris_df)\n",
    "\n",
    "if __name__ == \"__main__\":\n",
    "    if LOCAL == True :\n",
    "        g()\n",
    "    else:\n",
    "        stub.deploy(\"iris_daily\")\n",
    "        with stub.run():\n",
    "            f()\n"
   ]
  },
  {
   "cell_type": "code",
   "execution_count": null,
   "metadata": {},
   "outputs": [],
   "source": []
  }
 ],
 "metadata": {
  "kernelspec": {
   "display_name": "Python 3 (ipykernel)",
   "language": "python",
   "name": "python3"
  },
  "language_info": {
   "codemirror_mode": {
    "name": "ipython",
    "version": 3
   },
   "file_extension": ".py",
   "mimetype": "text/x-python",
   "name": "python",
   "nbconvert_exporter": "python",
   "pygments_lexer": "ipython3",
   "version": "3.10.0"
  },
  "vscode": {
   "interpreter": {
    "hash": "97f64928418ea14f740effb4d9ace101d8c0b92fb04fd49be3bdba4a017cbbe9"
   }
  }
 },
 "nbformat": 4,
 "nbformat_minor": 4
}

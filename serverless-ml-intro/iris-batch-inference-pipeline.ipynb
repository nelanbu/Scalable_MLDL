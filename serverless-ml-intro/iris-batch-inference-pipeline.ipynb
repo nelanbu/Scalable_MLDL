{
 "cells": [
  {
   "cell_type": "code",
   "execution_count": 1,
   "metadata": {},
   "outputs": [
    {
     "name": "stdout",
     "output_type": "stream",
     "text": [
      "Connected. Call `.close()` to terminate connection gracefully.\n",
      "\n",
      "Logged in to project, explore it here https://c.app.hopsworks.ai:443/p/212121\n",
      "Connected. Call `.close()` to terminate connection gracefully.\n",
      "Connected. Call `.close()` to terminate connection gracefully.\n",
      "Finished: Reading data from Hopsworks, using ArrowFlight (0.74s) ht.   \n",
      "Flower predicted: Setosa\n"
     ]
    },
    {
     "data": {
      "application/vnd.jupyter.widget-view+json": {
       "model_id": "251d1c4d07d84aa38f223dd095787539",
       "version_major": 2,
       "version_minor": 0
      },
      "text/plain": [
       "Uploading: 0.000%|          | 0/132570 elapsed<00:00 remaining<?"
      ]
     },
     "metadata": {},
     "output_type": "display_data"
    },
    {
     "name": "stdout",
     "output_type": "stream",
     "text": [
      "Finished: Reading data from Hopsworks, using ArrowFlight (0.66s) \n",
      "Flower actual: Setosa\n"
     ]
    },
    {
     "data": {
      "application/vnd.jupyter.widget-view+json": {
       "model_id": "3a6ec26f4c8843e5a99b662df300beb4",
       "version_major": 2,
       "version_minor": 0
      },
      "text/plain": [
       "Uploading: 0.000%|          | 0/132570 elapsed<00:00 remaining<?"
      ]
     },
     "metadata": {},
     "output_type": "display_data"
    },
    {
     "data": {
      "application/vnd.jupyter.widget-view+json": {
       "model_id": "9bdd7aa455cc4c4a936cb2a32518c695",
       "version_major": 2,
       "version_minor": 0
      },
      "text/plain": [
       "Uploading Dataframe: 0.00% |          | Rows 0/1 | Elapsed Time: 00:00 | Remaining Time: ?"
      ]
     },
     "metadata": {},
     "output_type": "display_data"
    },
    {
     "name": "stdout",
     "output_type": "stream",
     "text": [
      "Launching job: iris_predictions_1_offline_fg_materialization\n",
      "Job started successfully, you can follow the progress at \n",
      "https://c.app.hopsworks.ai/p/212121/jobs/named/iris_predictions_1_offline_fg_materialization/executions\n",
      "Finished: Reading data from Hopsworks, using ArrowFlight (0.85s) \n"
     ]
    },
    {
     "data": {
      "application/vnd.jupyter.widget-view+json": {
       "model_id": "7c678859a3fa4389a64cdf4f1af2b9fb",
       "version_major": 2,
       "version_minor": 0
      },
      "text/plain": [
       "Uploading: 0.000%|          | 0/15451 elapsed<00:00 remaining<?"
      ]
     },
     "metadata": {},
     "output_type": "display_data"
    },
    {
     "name": "stdout",
     "output_type": "stream",
     "text": [
      "Number of different flower predictions to date: 1\n",
      "You need 3 different flower predictions to create the confusion matrix.\n",
      "Run the batch inference pipeline more times until you get 3 different iris flower predictions\n"
     ]
    }
   ],
   "source": [
    "import os\n",
    "import modal\n",
    "    \n",
    "LOCAL=True\n",
    "\n",
    "if LOCAL == False:\n",
    "   stub = modal.Stub()\n",
    "   hopsworks_image = modal.Image.debian_slim().pip_install([\"hopsworks\",\"joblib\",\"seaborn\",\"sklearn==1.1.1\",\"dataframe-image\"])\n",
    "   @stub.function(image=hopsworks_image, schedule=modal.Period(days=1), secret=modal.Secret.from_name(\"HOPSWORKS_API_KEY\"))\n",
    "   def f():\n",
    "       g()\n",
    "\n",
    "def g():\n",
    "    import pandas as pd\n",
    "    import hopsworks\n",
    "    import joblib\n",
    "    import datetime\n",
    "    from PIL import Image\n",
    "    from datetime import datetime\n",
    "    import dataframe_image as dfi\n",
    "    from sklearn.metrics import confusion_matrix\n",
    "    from matplotlib import pyplot\n",
    "    import seaborn as sns\n",
    "    import requests\n",
    "\n",
    "    project = hopsworks.login()\n",
    "    fs = project.get_feature_store()\n",
    "    \n",
    "    mr = project.get_model_registry()\n",
    "    model = mr.get_model(\"iris_model\", version=1)\n",
    "    model_dir = model.download()\n",
    "    model = joblib.load(model_dir + \"/iris_model.pkl\")\n",
    "    \n",
    "    feature_view = fs.get_feature_view(name=\"iris\", version=1)\n",
    "    batch_data = feature_view.get_batch_data()\n",
    "    \n",
    "    y_pred = model.predict(batch_data)\n",
    "    #print(y_pred)\n",
    "    offset = 1\n",
    "    flower = y_pred[y_pred.size-offset]\n",
    "    flower_url = \"https://raw.githubusercontent.com/featurestoreorg/serverless-ml-course/main/src/01-module/assets/\" + flower + \".png\"\n",
    "    print(\"Flower predicted: \" + flower)\n",
    "    img = Image.open(requests.get(flower_url, stream=True).raw)            \n",
    "    img.save(\"./latest_iris.png\")\n",
    "    dataset_api = project.get_dataset_api()    \n",
    "    dataset_api.upload(\"./latest_iris.png\", \"Resources/images\", overwrite=True)\n",
    "   \n",
    "    iris_fg = fs.get_feature_group(name=\"iris\", version=1)\n",
    "    df = iris_fg.read() \n",
    "    #print(df)\n",
    "    label = df.iloc[-offset][\"variety\"]\n",
    "    label_url = \"https://raw.githubusercontent.com/featurestoreorg/serverless-ml-course/main/src/01-module/assets/\" + label + \".png\"\n",
    "    print(\"Flower actual: \" + label)\n",
    "    img = Image.open(requests.get(label_url, stream=True).raw)            \n",
    "    img.save(\"./actual_iris.png\")\n",
    "    dataset_api.upload(\"./actual_iris.png\", \"Resources/images\", overwrite=True)\n",
    "    \n",
    "    monitor_fg = fs.get_or_create_feature_group(name=\"iris_predictions\",\n",
    "                                                version=1,\n",
    "                                                primary_key=[\"datetime\"],\n",
    "                                                description=\"Iris flower Prediction/Outcome Monitoring\"\n",
    "                                                )\n",
    "    \n",
    "    now = datetime.now().strftime(\"%m/%d/%Y, %H:%M:%S\")\n",
    "    data = {\n",
    "        'prediction': [flower],\n",
    "        'label': [label],\n",
    "        'datetime': [now],\n",
    "       }\n",
    "    monitor_df = pd.DataFrame(data)\n",
    "    monitor_fg.insert(monitor_df, write_options={\"wait_for_job\" : False})\n",
    "    \n",
    "    history_df = monitor_fg.read()\n",
    "    # Add our prediction to the history, as the history_df won't have it - \n",
    "    # the insertion was done asynchronously, so it will take ~1 min to land on App\n",
    "    history_df = pd.concat([history_df, monitor_df])\n",
    "\n",
    "\n",
    "    df_recent = history_df.tail(4)\n",
    "    dfi.export(df_recent, './df_recent.png', table_conversion = 'matplotlib')\n",
    "    dataset_api.upload(\"./df_recent.png\", \"Resources/images\", overwrite=True)\n",
    "    \n",
    "    predictions = history_df[['prediction']]\n",
    "    labels = history_df[['label']]\n",
    "\n",
    "    # Only create the confusion matrix when our iris_predictions feature group has examples of all 3 iris flowers\n",
    "    print(\"Number of different flower predictions to date: \" + str(predictions.value_counts().count()))\n",
    "    if predictions.value_counts().count() == 3:\n",
    "        results = confusion_matrix(labels, predictions)\n",
    "    \n",
    "        df_cm = pd.DataFrame(results, ['True Setosa', 'True Versicolor', 'True Virginica'],\n",
    "                             ['Pred Setosa', 'Pred Versicolor', 'Pred Virginica'])\n",
    "    \n",
    "        cm = sns.heatmap(df_cm, annot=True)\n",
    "        fig = cm.get_figure()\n",
    "        fig.savefig(\"./confusion_matrix.png\")\n",
    "        dataset_api.upload(\"./confusion_matrix.png\", \"Resources/images\", overwrite=True)\n",
    "    else:\n",
    "        print(\"You need 3 different flower predictions to create the confusion matrix.\")\n",
    "        print(\"Run the batch inference pipeline more times until you get 3 different iris flower predictions\") \n",
    "\n",
    "\n",
    "if __name__ == \"__main__\":\n",
    "    if LOCAL == True :\n",
    "        g()\n",
    "    else:\n",
    "        with stub.run():\n",
    "            f()\n",
    "\n"
   ]
  },
  {
   "cell_type": "code",
   "execution_count": null,
   "metadata": {},
   "outputs": [],
   "source": []
  }
 ],
 "metadata": {
  "kernelspec": {
   "display_name": "Python 3 (ipykernel)",
   "language": "python",
   "name": "python3"
  },
  "language_info": {
   "codemirror_mode": {
    "name": "ipython",
    "version": 3
   },
   "file_extension": ".py",
   "mimetype": "text/x-python",
   "name": "python",
   "nbconvert_exporter": "python",
   "pygments_lexer": "ipython3",
   "version": "3.10.0"
  },
  "vscode": {
   "interpreter": {
    "hash": "97f64928418ea14f740effb4d9ace101d8c0b92fb04fd49be3bdba4a017cbbe9"
   }
  }
 },
 "nbformat": 4,
 "nbformat_minor": 4
}
